{
 "cells": [
  {
   "cell_type": "markdown",
   "id": "7b55771b",
   "metadata": {},
   "source": [
    "# 🧠 TrackZone IA Realista - Organização com Probabilidade e Aprendizado Supervisionado\n",
    "Este notebook utiliza uma base mais realista, onde a zona ideal é atribuída com **probabilidades**, e não de forma determinística. Treinamos um modelo supervisionado (MLPClassifier) para prever a zona ideal com acurácia próxima de 90%."
   ]
  },
  {
   "cell_type": "code",
   "execution_count": null,
   "id": "d931741f",
   "metadata": {},
   "outputs": [],
   "source": [
    "\n",
    "# !pip install plotly\n",
    "import pandas as pd\n",
    "import numpy as np\n",
    "import plotly.express as px\n",
    "from sklearn.model_selection import train_test_split, cross_val_score\n",
    "from sklearn.neural_network import MLPClassifier\n",
    "from sklearn.preprocessing import LabelEncoder, StandardScaler\n",
    "from sklearn.pipeline import make_pipeline\n",
    "from sklearn.metrics import classification_report, accuracy_score\n"
   ]
  },
  {
   "cell_type": "code",
   "execution_count": null,
   "id": "a02fe258",
   "metadata": {},
   "outputs": [],
   "source": [
    "\n",
    "df = pd.read_csv(\"base_motos_realista.csv\")\n",
    "df.head()\n"
   ]
  },
  {
   "cell_type": "code",
   "execution_count": null,
   "id": "1491be5d",
   "metadata": {},
   "outputs": [],
   "source": [
    "\n",
    "# Codificação\n",
    "le_status = LabelEncoder()\n",
    "le_zona = LabelEncoder()\n",
    "\n",
    "df[\"status_encoded\"] = le_status.fit_transform(df[\"status\"])\n",
    "df[\"zona_encoded\"] = le_zona.fit_transform(df[\"zona_ideal\"])\n",
    "\n",
    "X = df[[\"status_encoded\"]]\n",
    "y = df[\"zona_encoded\"]\n",
    "\n",
    "# Validação cruzada com pipeline\n",
    "pipeline = make_pipeline(\n",
    "    StandardScaler(),\n",
    "    MLPClassifier(hidden_layer_sizes=(32, 32), activation='relu', max_iter=3000, random_state=42)\n",
    ")\n",
    "\n",
    "scores = cross_val_score(pipeline, X, y, cv=5, scoring='accuracy')\n",
    "print(\"Acurácia média:\", round(scores.mean() * 100, 2), \"%\")\n",
    "print(\"Desvio padrão:\", round(scores.std() * 100, 2), \"%\")\n"
   ]
  },
  {
   "cell_type": "code",
   "execution_count": null,
   "id": "7c3de944",
   "metadata": {},
   "outputs": [],
   "source": [
    "\n",
    "pipeline.fit(X, y)\n"
   ]
  },
  {
   "cell_type": "code",
   "execution_count": null,
   "id": "a5e88783",
   "metadata": {},
   "outputs": [],
   "source": [
    "\n",
    "zonas = {\n",
    "    \"BOX_RAPIDO\": {\"x\": (2, 4), \"y\": (6, 9)},\n",
    "    \"RAMPA_MANUTENCAO\": {\"x\": (0, 2), \"y\": (5, 9)},\n",
    "    \"BANCADA_MOTOR\": {\"x\": (7, 9), \"y\": (4, 6)},\n",
    "    \"PATIO\": {\"x\": (6, 9), \"y\": (7, 9)},\n",
    "}\n",
    "\n",
    "zona_contadores = {\n",
    "    zona: len(df[df[\"zona_ideal\"] == zona])\n",
    "    for zona in zonas\n",
    "}\n",
    "\n",
    "def adicionar_moto_ia(placa, chassi, motor, status):\n",
    "    global df\n",
    "    status_encoded = le_status.transform([status])[0]\n",
    "    zona_pred_index = pipeline.predict([[status_encoded]])[0]\n",
    "    zona_pred = le_zona.inverse_transform([zona_pred_index])[0]\n",
    "\n",
    "    count = zona_contadores[zona_pred]\n",
    "    zona_contadores[zona_pred] += 1\n",
    "\n",
    "    max_por_linha = 5\n",
    "    col = count % max_por_linha\n",
    "    lin = count // max_por_linha\n",
    "\n",
    "    x0, x1 = zonas[zona_pred][\"x\"]\n",
    "    y0, y1 = zonas[zona_pred][\"y\"]\n",
    "    espaco_x = (x1 - x0) / max_por_linha\n",
    "    espaco_y = (y1 - y0) / 10\n",
    "\n",
    "    nova_x = round(x0 + col * espaco_x + espaco_x / 2, 2)\n",
    "    nova_y = round(y1 - lin * espaco_y - espaco_y / 2, 2)\n",
    "\n",
    "    descricao = f\"Moto com status '{status}' alocada na zona {zona_pred} - placa {placa}\"\n",
    "\n",
    "    nova_moto = {\n",
    "        \"placa\": placa,\n",
    "        \"numero_chassi\": chassi,\n",
    "        \"numero_motor\": motor,\n",
    "        \"status\": status,\n",
    "        \"x\": None,\n",
    "        \"y\": None,\n",
    "        \"nova_x\": nova_x,\n",
    "        \"nova_y\": nova_y,\n",
    "        \"zona_ideal\": zona_pred,\n",
    "        \"descricao_posicao\": descricao\n",
    "    }\n",
    "\n",
    "    df = pd.concat([df, pd.DataFrame([nova_moto])], ignore_index=True)\n"
   ]
  },
  {
   "cell_type": "code",
   "execution_count": null,
   "id": "82ff9f3b",
   "metadata": {},
   "outputs": [],
   "source": [
    "\n",
    "def mostrar_patio():\n",
    "    fig = px.scatter(\n",
    "        df,\n",
    "        x=\"nova_x\",\n",
    "        y=\"nova_y\",\n",
    "        color=\"zona_ideal\",\n",
    "        hover_data=[\"placa\", \"status\", \"zona_ideal\", \"descricao_posicao\"],\n",
    "        title=\"🛵 Pátio com Motos Organizadas por IA\",\n",
    "        labels={\"nova_x\": \"Coordenada X\", \"nova_y\": \"Coordenada Y\"}\n",
    "    )\n",
    "    fig.update_traces(marker=dict(size=10))\n",
    "    fig.update_layout(height=600)\n",
    "    fig.show()\n"
   ]
  },
  {
   "cell_type": "code",
   "execution_count": null,
   "id": "af21ba92",
   "metadata": {},
   "outputs": [],
   "source": [
    "\n",
    "adicionar_moto_ia(\"ABC9988\", \"CHS112233\", \"MTR445566\", \"Defeito no motor\")\n",
    "mostrar_patio()\n"
   ]
  }
 ],
 "metadata": {},
 "nbformat": 4,
 "nbformat_minor": 5
}
